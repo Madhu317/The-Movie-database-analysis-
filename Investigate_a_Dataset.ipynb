{
 "cells": [
  {
   "cell_type": "markdown",
   "metadata": {},
   "source": [
    "\n",
    "# PROJECT: TMDb DATA ANALYSIS\n",
    "\n",
    "## TABLE OF CONTENTS\n",
    "<ul>\n",
    "<li><a href=\"#intro\">Introduction</a></li>\n",
    "<li><a href=\"#wrangling\">Data Wrangling</a></li>\n",
    "<li><a href=\"#eda\">Exploratory Data Analysis</a></li>\n",
    "<li><a href=\"#conclusions\">Conclusions</a></li>\n",
    "</ul>"
   ]
  },
  {
   "cell_type": "markdown",
   "metadata": {},
   "source": [
    "<a id='intro'></a>\n",
    "## INTRODUCTION\n",
    "\n",
    "In this project, the data set I have chosen to  analyze is the TMDb data set. This data set contains a list of movies with data such as it's release year, popularity, voting, budget, revenue which will help in the analysis. \n",
    "\n",
    "From this data set, there are different varaibles available to be analyzed. I have focused on analyzing the following trends;\n",
    "\n",
    "1. Movie release trend over the years\n",
    "2. Popularity trend over the years\n",
    "3. Revenue over the years\n",
    "4. Runtime over the years\n",
    "\n",
    "I'm also interested in analyzing to find how different variables influence the revenue which is the end goal in the movie making business. For the same, I have chosen the following variables to analyze the correlation; \n",
    "\n",
    "1. Revenue and Popularity\n",
    "2. Revenue and Runtime\n",
    "3. Revenue and Budget\n",
    "4. Revenue and Vote Count\n",
    "\n",
    "The analysis in the project is by using Python, in the below code cell,I have written statements to import the packages - numpy and pandas which has functions that is to be used in the analysis. Also, I have included the statements for visualization of the analysis and communicate the findings using plots. \n",
    "\n",
    "\n"
   ]
  },
  {
   "cell_type": "code",
   "execution_count": 40,
   "metadata": {},
   "outputs": [],
   "source": [
    "#Following statements help import  packages to be used in the analysis\n",
    "import numpy as np \n",
    "import pandas as pd\n",
    "#Following statements help visualizing the analysis using plots\n",
    "import matplotlib.pyplot as plt\n",
    "import seaborn as sns\n",
    "% matplotlib inline\n"
   ]
  },
  {
   "cell_type": "markdown",
   "metadata": {},
   "source": [
    "<a id='wrangling'></a>\n",
    "## DATA WRANGLING\n",
    "\n",
    "Before analyzing the data, the important step is to make sure the data is clean by checking for any missing data, duplicate values or any other inefficiencies that might affect the results of the analysis. \n",
    "\n",
    "In order to perform Data wrangling, I have followed the steps below. \n",
    "\n",
    "\n",
    "### STEP 1: FILE LOADING\n",
    "\n",
    "As the first step of the data wrangling process, I have loaded the TMDb file to be analyzed into a data frame. I have used the read_csv since the file to be read is a  CSV file and named the data frame as TMDb_data. \n",
    " "
   ]
  },
  {
   "cell_type": "code",
   "execution_count": 41,
   "metadata": {},
   "outputs": [],
   "source": [
    "#Read the dataset and load it into the dataframe \n",
    "TMDb_data = pd.read_csv('tmdb-movies.csv') "
   ]
  },
  {
   "cell_type": "markdown",
   "metadata": {},
   "source": [
    "The data is now loaded into the data frame. To get an idea of what the data contains, I have used the head function to look at the top 5 rows of the data set in the following cells. To know the total number of rows and columns, I have used the shape function. From the below cells, the data has 10866 rows and 21 columns."
   ]
  },
  {
   "cell_type": "code",
   "execution_count": 42,
   "metadata": {},
   "outputs": [
    {
     "data": {
      "text/html": [
       "<div>\n",
       "<style>\n",
       "    .dataframe thead tr:only-child th {\n",
       "        text-align: right;\n",
       "    }\n",
       "\n",
       "    .dataframe thead th {\n",
       "        text-align: left;\n",
       "    }\n",
       "\n",
       "    .dataframe tbody tr th {\n",
       "        vertical-align: top;\n",
       "    }\n",
       "</style>\n",
       "<table border=\"1\" class=\"dataframe\">\n",
       "  <thead>\n",
       "    <tr style=\"text-align: right;\">\n",
       "      <th></th>\n",
       "      <th>id</th>\n",
       "      <th>imdb_id</th>\n",
       "      <th>popularity</th>\n",
       "      <th>budget</th>\n",
       "      <th>revenue</th>\n",
       "      <th>original_title</th>\n",
       "      <th>cast</th>\n",
       "      <th>homepage</th>\n",
       "      <th>director</th>\n",
       "      <th>tagline</th>\n",
       "      <th>...</th>\n",
       "      <th>overview</th>\n",
       "      <th>runtime</th>\n",
       "      <th>genres</th>\n",
       "      <th>production_companies</th>\n",
       "      <th>release_date</th>\n",
       "      <th>vote_count</th>\n",
       "      <th>vote_average</th>\n",
       "      <th>release_year</th>\n",
       "      <th>budget_adj</th>\n",
       "      <th>revenue_adj</th>\n",
       "    </tr>\n",
       "  </thead>\n",
       "  <tbody>\n",
       "    <tr>\n",
       "      <th>0</th>\n",
       "      <td>135397</td>\n",
       "      <td>tt0369610</td>\n",
       "      <td>32.985763</td>\n",
       "      <td>150000000</td>\n",
       "      <td>1513528810</td>\n",
       "      <td>Jurassic World</td>\n",
       "      <td>Chris Pratt|Bryce Dallas Howard|Irrfan Khan|Vi...</td>\n",
       "      <td>http://www.jurassicworld.com/</td>\n",
       "      <td>Colin Trevorrow</td>\n",
       "      <td>The park is open.</td>\n",
       "      <td>...</td>\n",
       "      <td>Twenty-two years after the events of Jurassic ...</td>\n",
       "      <td>124</td>\n",
       "      <td>Action|Adventure|Science Fiction|Thriller</td>\n",
       "      <td>Universal Studios|Amblin Entertainment|Legenda...</td>\n",
       "      <td>6/9/15</td>\n",
       "      <td>5562</td>\n",
       "      <td>6.5</td>\n",
       "      <td>2015</td>\n",
       "      <td>1.379999e+08</td>\n",
       "      <td>1.392446e+09</td>\n",
       "    </tr>\n",
       "    <tr>\n",
       "      <th>1</th>\n",
       "      <td>76341</td>\n",
       "      <td>tt1392190</td>\n",
       "      <td>28.419936</td>\n",
       "      <td>150000000</td>\n",
       "      <td>378436354</td>\n",
       "      <td>Mad Max: Fury Road</td>\n",
       "      <td>Tom Hardy|Charlize Theron|Hugh Keays-Byrne|Nic...</td>\n",
       "      <td>http://www.madmaxmovie.com/</td>\n",
       "      <td>George Miller</td>\n",
       "      <td>What a Lovely Day.</td>\n",
       "      <td>...</td>\n",
       "      <td>An apocalyptic story set in the furthest reach...</td>\n",
       "      <td>120</td>\n",
       "      <td>Action|Adventure|Science Fiction|Thriller</td>\n",
       "      <td>Village Roadshow Pictures|Kennedy Miller Produ...</td>\n",
       "      <td>5/13/15</td>\n",
       "      <td>6185</td>\n",
       "      <td>7.1</td>\n",
       "      <td>2015</td>\n",
       "      <td>1.379999e+08</td>\n",
       "      <td>3.481613e+08</td>\n",
       "    </tr>\n",
       "    <tr>\n",
       "      <th>2</th>\n",
       "      <td>262500</td>\n",
       "      <td>tt2908446</td>\n",
       "      <td>13.112507</td>\n",
       "      <td>110000000</td>\n",
       "      <td>295238201</td>\n",
       "      <td>Insurgent</td>\n",
       "      <td>Shailene Woodley|Theo James|Kate Winslet|Ansel...</td>\n",
       "      <td>http://www.thedivergentseries.movie/#insurgent</td>\n",
       "      <td>Robert Schwentke</td>\n",
       "      <td>One Choice Can Destroy You</td>\n",
       "      <td>...</td>\n",
       "      <td>Beatrice Prior must confront her inner demons ...</td>\n",
       "      <td>119</td>\n",
       "      <td>Adventure|Science Fiction|Thriller</td>\n",
       "      <td>Summit Entertainment|Mandeville Films|Red Wago...</td>\n",
       "      <td>3/18/15</td>\n",
       "      <td>2480</td>\n",
       "      <td>6.3</td>\n",
       "      <td>2015</td>\n",
       "      <td>1.012000e+08</td>\n",
       "      <td>2.716190e+08</td>\n",
       "    </tr>\n",
       "    <tr>\n",
       "      <th>3</th>\n",
       "      <td>140607</td>\n",
       "      <td>tt2488496</td>\n",
       "      <td>11.173104</td>\n",
       "      <td>200000000</td>\n",
       "      <td>2068178225</td>\n",
       "      <td>Star Wars: The Force Awakens</td>\n",
       "      <td>Harrison Ford|Mark Hamill|Carrie Fisher|Adam D...</td>\n",
       "      <td>http://www.starwars.com/films/star-wars-episod...</td>\n",
       "      <td>J.J. Abrams</td>\n",
       "      <td>Every generation has a story.</td>\n",
       "      <td>...</td>\n",
       "      <td>Thirty years after defeating the Galactic Empi...</td>\n",
       "      <td>136</td>\n",
       "      <td>Action|Adventure|Science Fiction|Fantasy</td>\n",
       "      <td>Lucasfilm|Truenorth Productions|Bad Robot</td>\n",
       "      <td>12/15/15</td>\n",
       "      <td>5292</td>\n",
       "      <td>7.5</td>\n",
       "      <td>2015</td>\n",
       "      <td>1.839999e+08</td>\n",
       "      <td>1.902723e+09</td>\n",
       "    </tr>\n",
       "    <tr>\n",
       "      <th>4</th>\n",
       "      <td>168259</td>\n",
       "      <td>tt2820852</td>\n",
       "      <td>9.335014</td>\n",
       "      <td>190000000</td>\n",
       "      <td>1506249360</td>\n",
       "      <td>Furious 7</td>\n",
       "      <td>Vin Diesel|Paul Walker|Jason Statham|Michelle ...</td>\n",
       "      <td>http://www.furious7.com/</td>\n",
       "      <td>James Wan</td>\n",
       "      <td>Vengeance Hits Home</td>\n",
       "      <td>...</td>\n",
       "      <td>Deckard Shaw seeks revenge against Dominic Tor...</td>\n",
       "      <td>137</td>\n",
       "      <td>Action|Crime|Thriller</td>\n",
       "      <td>Universal Pictures|Original Film|Media Rights ...</td>\n",
       "      <td>4/1/15</td>\n",
       "      <td>2947</td>\n",
       "      <td>7.3</td>\n",
       "      <td>2015</td>\n",
       "      <td>1.747999e+08</td>\n",
       "      <td>1.385749e+09</td>\n",
       "    </tr>\n",
       "  </tbody>\n",
       "</table>\n",
       "<p>5 rows × 21 columns</p>\n",
       "</div>"
      ],
      "text/plain": [
       "       id    imdb_id  popularity     budget     revenue  \\\n",
       "0  135397  tt0369610   32.985763  150000000  1513528810   \n",
       "1   76341  tt1392190   28.419936  150000000   378436354   \n",
       "2  262500  tt2908446   13.112507  110000000   295238201   \n",
       "3  140607  tt2488496   11.173104  200000000  2068178225   \n",
       "4  168259  tt2820852    9.335014  190000000  1506249360   \n",
       "\n",
       "                 original_title  \\\n",
       "0                Jurassic World   \n",
       "1            Mad Max: Fury Road   \n",
       "2                     Insurgent   \n",
       "3  Star Wars: The Force Awakens   \n",
       "4                     Furious 7   \n",
       "\n",
       "                                                cast  \\\n",
       "0  Chris Pratt|Bryce Dallas Howard|Irrfan Khan|Vi...   \n",
       "1  Tom Hardy|Charlize Theron|Hugh Keays-Byrne|Nic...   \n",
       "2  Shailene Woodley|Theo James|Kate Winslet|Ansel...   \n",
       "3  Harrison Ford|Mark Hamill|Carrie Fisher|Adam D...   \n",
       "4  Vin Diesel|Paul Walker|Jason Statham|Michelle ...   \n",
       "\n",
       "                                            homepage          director  \\\n",
       "0                      http://www.jurassicworld.com/   Colin Trevorrow   \n",
       "1                        http://www.madmaxmovie.com/     George Miller   \n",
       "2     http://www.thedivergentseries.movie/#insurgent  Robert Schwentke   \n",
       "3  http://www.starwars.com/films/star-wars-episod...       J.J. Abrams   \n",
       "4                           http://www.furious7.com/         James Wan   \n",
       "\n",
       "                         tagline      ...       \\\n",
       "0              The park is open.      ...        \n",
       "1             What a Lovely Day.      ...        \n",
       "2     One Choice Can Destroy You      ...        \n",
       "3  Every generation has a story.      ...        \n",
       "4            Vengeance Hits Home      ...        \n",
       "\n",
       "                                            overview runtime  \\\n",
       "0  Twenty-two years after the events of Jurassic ...     124   \n",
       "1  An apocalyptic story set in the furthest reach...     120   \n",
       "2  Beatrice Prior must confront her inner demons ...     119   \n",
       "3  Thirty years after defeating the Galactic Empi...     136   \n",
       "4  Deckard Shaw seeks revenge against Dominic Tor...     137   \n",
       "\n",
       "                                      genres  \\\n",
       "0  Action|Adventure|Science Fiction|Thriller   \n",
       "1  Action|Adventure|Science Fiction|Thriller   \n",
       "2         Adventure|Science Fiction|Thriller   \n",
       "3   Action|Adventure|Science Fiction|Fantasy   \n",
       "4                      Action|Crime|Thriller   \n",
       "\n",
       "                                production_companies release_date vote_count  \\\n",
       "0  Universal Studios|Amblin Entertainment|Legenda...       6/9/15       5562   \n",
       "1  Village Roadshow Pictures|Kennedy Miller Produ...      5/13/15       6185   \n",
       "2  Summit Entertainment|Mandeville Films|Red Wago...      3/18/15       2480   \n",
       "3          Lucasfilm|Truenorth Productions|Bad Robot     12/15/15       5292   \n",
       "4  Universal Pictures|Original Film|Media Rights ...       4/1/15       2947   \n",
       "\n",
       "   vote_average  release_year    budget_adj   revenue_adj  \n",
       "0           6.5          2015  1.379999e+08  1.392446e+09  \n",
       "1           7.1          2015  1.379999e+08  3.481613e+08  \n",
       "2           6.3          2015  1.012000e+08  2.716190e+08  \n",
       "3           7.5          2015  1.839999e+08  1.902723e+09  \n",
       "4           7.3          2015  1.747999e+08  1.385749e+09  \n",
       "\n",
       "[5 rows x 21 columns]"
      ]
     },
     "execution_count": 42,
     "metadata": {},
     "output_type": "execute_result"
    }
   ],
   "source": [
    "#View the top 5 rows of the dataset \n",
    "TMDb_data.head()\n"
   ]
  },
  {
   "cell_type": "code",
   "execution_count": 43,
   "metadata": {},
   "outputs": [
    {
     "data": {
      "text/plain": [
       "(10866, 21)"
      ]
     },
     "execution_count": 43,
     "metadata": {},
     "output_type": "execute_result"
    }
   ],
   "source": [
    "#Find the total number of rows and columns in the dataset\n",
    "TMDb_data.shape"
   ]
  },
  {
   "cell_type": "markdown",
   "metadata": {},
   "source": [
    "### STEP 2: DATA CLEANING\n",
    "\n",
    "Once the data has been loaded into the data frame, the next step I have followed is to check if the data is clean. I have used the info function in the below cell to find out if there are null values in the data set.The imdb_id which is a unique identifier column has 10 null values. The other columns I'm interested in my analysis - budget, revenue, popularity, vote count,runtime have no null values. "
   ]
  },
  {
   "cell_type": "code",
   "execution_count": 44,
   "metadata": {},
   "outputs": [
    {
     "name": "stdout",
     "output_type": "stream",
     "text": [
      "<class 'pandas.core.frame.DataFrame'>\n",
      "RangeIndex: 10866 entries, 0 to 10865\n",
      "Data columns (total 21 columns):\n",
      "id                      10866 non-null int64\n",
      "imdb_id                 10856 non-null object\n",
      "popularity              10866 non-null float64\n",
      "budget                  10866 non-null int64\n",
      "revenue                 10866 non-null int64\n",
      "original_title          10866 non-null object\n",
      "cast                    10790 non-null object\n",
      "homepage                2936 non-null object\n",
      "director                10822 non-null object\n",
      "tagline                 8042 non-null object\n",
      "keywords                9373 non-null object\n",
      "overview                10862 non-null object\n",
      "runtime                 10866 non-null int64\n",
      "genres                  10843 non-null object\n",
      "production_companies    9836 non-null object\n",
      "release_date            10866 non-null object\n",
      "vote_count              10866 non-null int64\n",
      "vote_average            10866 non-null float64\n",
      "release_year            10866 non-null int64\n",
      "budget_adj              10866 non-null float64\n",
      "revenue_adj             10866 non-null float64\n",
      "dtypes: float64(4), int64(6), object(11)\n",
      "memory usage: 1.7+ MB\n"
     ]
    }
   ],
   "source": [
    "#Using the info function to check for null values\n",
    "TMDb_data.info()"
   ]
  },
  {
   "cell_type": "markdown",
   "metadata": {},
   "source": [
    "Now, before, I drop the rows that has null Imdb_id values, I would like to see if there are rows that would help in the analysis. For the same purpose, I have used the isnull function the below cell. By running the following cell, the 10 rows has zero values in the budget, revenue column and dropping these 10 rows will not have any impact on our analysis. I have used the dropna function to drop rows with imdb_id null values. "
   ]
  },
  {
   "cell_type": "markdown",
   "metadata": {},
   "source": [
    "\n"
   ]
  },
  {
   "cell_type": "code",
   "execution_count": 45,
   "metadata": {},
   "outputs": [
    {
     "data": {
      "text/html": [
       "<div>\n",
       "<style>\n",
       "    .dataframe thead tr:only-child th {\n",
       "        text-align: right;\n",
       "    }\n",
       "\n",
       "    .dataframe thead th {\n",
       "        text-align: left;\n",
       "    }\n",
       "\n",
       "    .dataframe tbody tr th {\n",
       "        vertical-align: top;\n",
       "    }\n",
       "</style>\n",
       "<table border=\"1\" class=\"dataframe\">\n",
       "  <thead>\n",
       "    <tr style=\"text-align: right;\">\n",
       "      <th></th>\n",
       "      <th>id</th>\n",
       "      <th>imdb_id</th>\n",
       "      <th>popularity</th>\n",
       "      <th>budget</th>\n",
       "      <th>revenue</th>\n",
       "      <th>original_title</th>\n",
       "      <th>cast</th>\n",
       "      <th>homepage</th>\n",
       "      <th>director</th>\n",
       "      <th>tagline</th>\n",
       "      <th>...</th>\n",
       "      <th>overview</th>\n",
       "      <th>runtime</th>\n",
       "      <th>genres</th>\n",
       "      <th>production_companies</th>\n",
       "      <th>release_date</th>\n",
       "      <th>vote_count</th>\n",
       "      <th>vote_average</th>\n",
       "      <th>release_year</th>\n",
       "      <th>budget_adj</th>\n",
       "      <th>revenue_adj</th>\n",
       "    </tr>\n",
       "  </thead>\n",
       "  <tbody>\n",
       "    <tr>\n",
       "      <th>548</th>\n",
       "      <td>355131</td>\n",
       "      <td>NaN</td>\n",
       "      <td>0.108072</td>\n",
       "      <td>0</td>\n",
       "      <td>0</td>\n",
       "      <td>Sense8: Creating the World</td>\n",
       "      <td>Tuppence Middleton|Bae Doona |Brian J. Smith|A...</td>\n",
       "      <td>NaN</td>\n",
       "      <td>NaN</td>\n",
       "      <td>NaN</td>\n",
       "      <td>...</td>\n",
       "      <td>NaN</td>\n",
       "      <td>25</td>\n",
       "      <td>Documentary|Science Fiction</td>\n",
       "      <td>Netflix</td>\n",
       "      <td>8/10/15</td>\n",
       "      <td>12</td>\n",
       "      <td>7.5</td>\n",
       "      <td>2015</td>\n",
       "      <td>0.000000</td>\n",
       "      <td>0.0</td>\n",
       "    </tr>\n",
       "    <tr>\n",
       "      <th>997</th>\n",
       "      <td>287663</td>\n",
       "      <td>NaN</td>\n",
       "      <td>0.330431</td>\n",
       "      <td>0</td>\n",
       "      <td>0</td>\n",
       "      <td>Star Wars Rebels: Spark of Rebellion</td>\n",
       "      <td>Freddie Prinze Jr.|Vanessa Marshall|Steve Blum...</td>\n",
       "      <td>NaN</td>\n",
       "      <td>Steward Lee|Steven G. Lee</td>\n",
       "      <td>NaN</td>\n",
       "      <td>...</td>\n",
       "      <td>A Long Time Ago In A Galaxy Far, Far Awayâ€¦ A...</td>\n",
       "      <td>44</td>\n",
       "      <td>NaN</td>\n",
       "      <td>NaN</td>\n",
       "      <td>10/3/14</td>\n",
       "      <td>13</td>\n",
       "      <td>6.8</td>\n",
       "      <td>2014</td>\n",
       "      <td>0.000000</td>\n",
       "      <td>0.0</td>\n",
       "    </tr>\n",
       "    <tr>\n",
       "      <th>1528</th>\n",
       "      <td>15257</td>\n",
       "      <td>NaN</td>\n",
       "      <td>0.607851</td>\n",
       "      <td>0</td>\n",
       "      <td>0</td>\n",
       "      <td>Hulk vs. Wolverine</td>\n",
       "      <td>Fred Tatasciore|Bryce Johnson|Steve Blum|Nolan...</td>\n",
       "      <td>NaN</td>\n",
       "      <td>Frank Paur</td>\n",
       "      <td>NaN</td>\n",
       "      <td>...</td>\n",
       "      <td>Department H sends in Wolverine to track down ...</td>\n",
       "      <td>38</td>\n",
       "      <td>Animation|Action|Science Fiction</td>\n",
       "      <td>Marvel Studios</td>\n",
       "      <td>1/27/09</td>\n",
       "      <td>38</td>\n",
       "      <td>6.9</td>\n",
       "      <td>2009</td>\n",
       "      <td>0.000000</td>\n",
       "      <td>0.0</td>\n",
       "    </tr>\n",
       "    <tr>\n",
       "      <th>1750</th>\n",
       "      <td>101907</td>\n",
       "      <td>NaN</td>\n",
       "      <td>0.256975</td>\n",
       "      <td>0</td>\n",
       "      <td>0</td>\n",
       "      <td>Hulk vs. Thor</td>\n",
       "      <td>Graham McTavish|Fred Tatasciore|Matthew Wolf|J...</td>\n",
       "      <td>NaN</td>\n",
       "      <td>Sam Liu</td>\n",
       "      <td>A Battle Between God and Monster</td>\n",
       "      <td>...</td>\n",
       "      <td>For ages, Odin has protected his kingdom of As...</td>\n",
       "      <td>41</td>\n",
       "      <td>Action|Animation|Fantasy|Science Fiction</td>\n",
       "      <td>Marvel Studios</td>\n",
       "      <td>1/27/09</td>\n",
       "      <td>38</td>\n",
       "      <td>6.4</td>\n",
       "      <td>2009</td>\n",
       "      <td>0.000000</td>\n",
       "      <td>0.0</td>\n",
       "    </tr>\n",
       "    <tr>\n",
       "      <th>2401</th>\n",
       "      <td>45644</td>\n",
       "      <td>NaN</td>\n",
       "      <td>0.067753</td>\n",
       "      <td>0</td>\n",
       "      <td>0</td>\n",
       "      <td>Opeth: In Live Concert At The Royal Albert Hall</td>\n",
       "      <td>Mikael Ã…kerfeldt|Martin \"Axe\" Axenrot|Martin ...</td>\n",
       "      <td>http://www.opeth.com</td>\n",
       "      <td>NaN</td>\n",
       "      <td>The Loyal Disharmonic Orchestra, Conducted By ...</td>\n",
       "      <td>...</td>\n",
       "      <td>As part of the ongoing celebration of their 20...</td>\n",
       "      <td>163</td>\n",
       "      <td>Music</td>\n",
       "      <td>NaN</td>\n",
       "      <td>9/21/10</td>\n",
       "      <td>10</td>\n",
       "      <td>8.6</td>\n",
       "      <td>2010</td>\n",
       "      <td>0.000000</td>\n",
       "      <td>0.0</td>\n",
       "    </tr>\n",
       "    <tr>\n",
       "      <th>4797</th>\n",
       "      <td>369145</td>\n",
       "      <td>NaN</td>\n",
       "      <td>0.167501</td>\n",
       "      <td>0</td>\n",
       "      <td>0</td>\n",
       "      <td>Doctor Who: The Snowmen</td>\n",
       "      <td>Matt Smith|Jenna Coleman|Richard E. Grant|Ian ...</td>\n",
       "      <td>NaN</td>\n",
       "      <td>NaN</td>\n",
       "      <td>NaN</td>\n",
       "      <td>...</td>\n",
       "      <td>Christmas Eve, 1892, and the falling snow is t...</td>\n",
       "      <td>60</td>\n",
       "      <td>NaN</td>\n",
       "      <td>BBC Television UK</td>\n",
       "      <td>12/25/12</td>\n",
       "      <td>10</td>\n",
       "      <td>7.8</td>\n",
       "      <td>2012</td>\n",
       "      <td>0.000000</td>\n",
       "      <td>0.0</td>\n",
       "    </tr>\n",
       "    <tr>\n",
       "      <th>4872</th>\n",
       "      <td>269177</td>\n",
       "      <td>NaN</td>\n",
       "      <td>0.090552</td>\n",
       "      <td>0</td>\n",
       "      <td>0</td>\n",
       "      <td>Party Bercy</td>\n",
       "      <td>Florence Foresti</td>\n",
       "      <td>NaN</td>\n",
       "      <td>NaN</td>\n",
       "      <td>NaN</td>\n",
       "      <td>...</td>\n",
       "      <td>Florence Foresti is offered Bercy tribute to a...</td>\n",
       "      <td>120</td>\n",
       "      <td>Comedy</td>\n",
       "      <td>TF1 VidÃ©o</td>\n",
       "      <td>9/23/12</td>\n",
       "      <td>15</td>\n",
       "      <td>6.4</td>\n",
       "      <td>2012</td>\n",
       "      <td>0.000000</td>\n",
       "      <td>0.0</td>\n",
       "    </tr>\n",
       "    <tr>\n",
       "      <th>6071</th>\n",
       "      <td>279954</td>\n",
       "      <td>NaN</td>\n",
       "      <td>0.004323</td>\n",
       "      <td>500</td>\n",
       "      <td>0</td>\n",
       "      <td>Portal: Survive!</td>\n",
       "      <td>Monique Blanchard|Bradley Mixon</td>\n",
       "      <td>https://www.kickstarter.com/projects/colinandc...</td>\n",
       "      <td>Connor McGuire|Colin McGuire</td>\n",
       "      <td>The Cake is a Lie</td>\n",
       "      <td>...</td>\n",
       "      <td>A short, live action fan film by Collin and Co...</td>\n",
       "      <td>7</td>\n",
       "      <td>Action|Science Fiction</td>\n",
       "      <td>NaN</td>\n",
       "      <td>10/8/13</td>\n",
       "      <td>11</td>\n",
       "      <td>7.5</td>\n",
       "      <td>2013</td>\n",
       "      <td>468.016676</td>\n",
       "      <td>0.0</td>\n",
       "    </tr>\n",
       "    <tr>\n",
       "      <th>7527</th>\n",
       "      <td>50127</td>\n",
       "      <td>NaN</td>\n",
       "      <td>0.570337</td>\n",
       "      <td>0</td>\n",
       "      <td>0</td>\n",
       "      <td>Fallen: The Journey</td>\n",
       "      <td>Paul Wesley|Fernanda Andrade|Tom Skerritt|Rick...</td>\n",
       "      <td>NaN</td>\n",
       "      <td>Mikael Salomon</td>\n",
       "      <td>NaN</td>\n",
       "      <td>...</td>\n",
       "      <td>A year later, Aaron is still traveling around ...</td>\n",
       "      <td>80</td>\n",
       "      <td>Action|Adventure|Drama|Fantasy|Family</td>\n",
       "      <td>NaN</td>\n",
       "      <td>1/1/07</td>\n",
       "      <td>11</td>\n",
       "      <td>7.3</td>\n",
       "      <td>2007</td>\n",
       "      <td>0.000000</td>\n",
       "      <td>0.0</td>\n",
       "    </tr>\n",
       "    <tr>\n",
       "      <th>7809</th>\n",
       "      <td>50128</td>\n",
       "      <td>NaN</td>\n",
       "      <td>0.060795</td>\n",
       "      <td>0</td>\n",
       "      <td>0</td>\n",
       "      <td>Fallen: The Destiny</td>\n",
       "      <td>Paul Wesley|Fernanda Andrade|Tom Skerritt|Rick...</td>\n",
       "      <td>NaN</td>\n",
       "      <td>Mikael Salomon</td>\n",
       "      <td>NaN</td>\n",
       "      <td>...</td>\n",
       "      <td>Aaron and Azazel defeat the Powers, and force ...</td>\n",
       "      <td>80</td>\n",
       "      <td>Adventure|Fantasy|Drama|Action|Science Fiction</td>\n",
       "      <td>NaN</td>\n",
       "      <td>1/1/07</td>\n",
       "      <td>13</td>\n",
       "      <td>7.0</td>\n",
       "      <td>2007</td>\n",
       "      <td>0.000000</td>\n",
       "      <td>0.0</td>\n",
       "    </tr>\n",
       "  </tbody>\n",
       "</table>\n",
       "<p>10 rows × 21 columns</p>\n",
       "</div>"
      ],
      "text/plain": [
       "          id imdb_id  popularity  budget  revenue  \\\n",
       "548   355131     NaN    0.108072       0        0   \n",
       "997   287663     NaN    0.330431       0        0   \n",
       "1528   15257     NaN    0.607851       0        0   \n",
       "1750  101907     NaN    0.256975       0        0   \n",
       "2401   45644     NaN    0.067753       0        0   \n",
       "4797  369145     NaN    0.167501       0        0   \n",
       "4872  269177     NaN    0.090552       0        0   \n",
       "6071  279954     NaN    0.004323     500        0   \n",
       "7527   50127     NaN    0.570337       0        0   \n",
       "7809   50128     NaN    0.060795       0        0   \n",
       "\n",
       "                                       original_title  \\\n",
       "548                        Sense8: Creating the World   \n",
       "997              Star Wars Rebels: Spark of Rebellion   \n",
       "1528                               Hulk vs. Wolverine   \n",
       "1750                                    Hulk vs. Thor   \n",
       "2401  Opeth: In Live Concert At The Royal Albert Hall   \n",
       "4797                          Doctor Who: The Snowmen   \n",
       "4872                                      Party Bercy   \n",
       "6071                                 Portal: Survive!   \n",
       "7527                              Fallen: The Journey   \n",
       "7809                              Fallen: The Destiny   \n",
       "\n",
       "                                                   cast  \\\n",
       "548   Tuppence Middleton|Bae Doona |Brian J. Smith|A...   \n",
       "997   Freddie Prinze Jr.|Vanessa Marshall|Steve Blum...   \n",
       "1528  Fred Tatasciore|Bryce Johnson|Steve Blum|Nolan...   \n",
       "1750  Graham McTavish|Fred Tatasciore|Matthew Wolf|J...   \n",
       "2401  Mikael Ã…kerfeldt|Martin \"Axe\" Axenrot|Martin ...   \n",
       "4797  Matt Smith|Jenna Coleman|Richard E. Grant|Ian ...   \n",
       "4872                                   Florence Foresti   \n",
       "6071                    Monique Blanchard|Bradley Mixon   \n",
       "7527  Paul Wesley|Fernanda Andrade|Tom Skerritt|Rick...   \n",
       "7809  Paul Wesley|Fernanda Andrade|Tom Skerritt|Rick...   \n",
       "\n",
       "                                               homepage  \\\n",
       "548                                                 NaN   \n",
       "997                                                 NaN   \n",
       "1528                                                NaN   \n",
       "1750                                                NaN   \n",
       "2401                               http://www.opeth.com   \n",
       "4797                                                NaN   \n",
       "4872                                                NaN   \n",
       "6071  https://www.kickstarter.com/projects/colinandc...   \n",
       "7527                                                NaN   \n",
       "7809                                                NaN   \n",
       "\n",
       "                          director  \\\n",
       "548                            NaN   \n",
       "997      Steward Lee|Steven G. Lee   \n",
       "1528                    Frank Paur   \n",
       "1750                       Sam Liu   \n",
       "2401                           NaN   \n",
       "4797                           NaN   \n",
       "4872                           NaN   \n",
       "6071  Connor McGuire|Colin McGuire   \n",
       "7527                Mikael Salomon   \n",
       "7809                Mikael Salomon   \n",
       "\n",
       "                                                tagline     ...       \\\n",
       "548                                                 NaN     ...        \n",
       "997                                                 NaN     ...        \n",
       "1528                                                NaN     ...        \n",
       "1750                   A Battle Between God and Monster     ...        \n",
       "2401  The Loyal Disharmonic Orchestra, Conducted By ...     ...        \n",
       "4797                                                NaN     ...        \n",
       "4872                                                NaN     ...        \n",
       "6071                                  The Cake is a Lie     ...        \n",
       "7527                                                NaN     ...        \n",
       "7809                                                NaN     ...        \n",
       "\n",
       "                                               overview runtime  \\\n",
       "548                                                 NaN      25   \n",
       "997   A Long Time Ago In A Galaxy Far, Far Awayâ€¦ A...      44   \n",
       "1528  Department H sends in Wolverine to track down ...      38   \n",
       "1750  For ages, Odin has protected his kingdom of As...      41   \n",
       "2401  As part of the ongoing celebration of their 20...     163   \n",
       "4797  Christmas Eve, 1892, and the falling snow is t...      60   \n",
       "4872  Florence Foresti is offered Bercy tribute to a...     120   \n",
       "6071  A short, live action fan film by Collin and Co...       7   \n",
       "7527  A year later, Aaron is still traveling around ...      80   \n",
       "7809  Aaron and Azazel defeat the Powers, and force ...      80   \n",
       "\n",
       "                                              genres production_companies  \\\n",
       "548                      Documentary|Science Fiction              Netflix   \n",
       "997                                              NaN                  NaN   \n",
       "1528                Animation|Action|Science Fiction       Marvel Studios   \n",
       "1750        Action|Animation|Fantasy|Science Fiction       Marvel Studios   \n",
       "2401                                           Music                  NaN   \n",
       "4797                                             NaN    BBC Television UK   \n",
       "4872                                          Comedy           TF1 VidÃ©o   \n",
       "6071                          Action|Science Fiction                  NaN   \n",
       "7527           Action|Adventure|Drama|Fantasy|Family                  NaN   \n",
       "7809  Adventure|Fantasy|Drama|Action|Science Fiction                  NaN   \n",
       "\n",
       "     release_date vote_count  vote_average  release_year  budget_adj  \\\n",
       "548       8/10/15         12           7.5          2015    0.000000   \n",
       "997       10/3/14         13           6.8          2014    0.000000   \n",
       "1528      1/27/09         38           6.9          2009    0.000000   \n",
       "1750      1/27/09         38           6.4          2009    0.000000   \n",
       "2401      9/21/10         10           8.6          2010    0.000000   \n",
       "4797     12/25/12         10           7.8          2012    0.000000   \n",
       "4872      9/23/12         15           6.4          2012    0.000000   \n",
       "6071      10/8/13         11           7.5          2013  468.016676   \n",
       "7527       1/1/07         11           7.3          2007    0.000000   \n",
       "7809       1/1/07         13           7.0          2007    0.000000   \n",
       "\n",
       "      revenue_adj  \n",
       "548           0.0  \n",
       "997           0.0  \n",
       "1528          0.0  \n",
       "1750          0.0  \n",
       "2401          0.0  \n",
       "4797          0.0  \n",
       "4872          0.0  \n",
       "6071          0.0  \n",
       "7527          0.0  \n",
       "7809          0.0  \n",
       "\n",
       "[10 rows x 21 columns]"
      ]
     },
     "execution_count": 45,
     "metadata": {},
     "output_type": "execute_result"
    }
   ],
   "source": [
    "#View the rows in the dataset with null Imdb_id's\n",
    "TMDb_data[TMDb_data.imdb_id.isnull()]\n"
   ]
  },
  {
   "cell_type": "code",
   "execution_count": 46,
   "metadata": {},
   "outputs": [],
   "source": [
    "#Drop the rows in the dataset with null Imdb_id's\n",
    "TMDb_data.dropna(subset=['imdb_id'], inplace = True)\n"
   ]
  },
  {
   "cell_type": "markdown",
   "metadata": {},
   "source": [
    "I'm also interested in finding if there are any duplicate rows, I'm using the duplicated function in the below cell and looks like there is one duplicate row. To drop the duplicate row, I have used the drop_duplicates function in the folowing cell."
   ]
  },
  {
   "cell_type": "code",
   "execution_count": 47,
   "metadata": {},
   "outputs": [
    {
     "data": {
      "text/plain": [
       "1"
      ]
     },
     "execution_count": 47,
     "metadata": {},
     "output_type": "execute_result"
    }
   ],
   "source": [
    "#Find the number of duplicate rows in the dataset \n",
    "sum(TMDb_data.duplicated())"
   ]
  },
  {
   "cell_type": "code",
   "execution_count": 48,
   "metadata": {},
   "outputs": [],
   "source": [
    "#Drop the duplicate row in the dataset \n",
    "TMDb_data.drop_duplicates(inplace=True)\n"
   ]
  },
  {
   "cell_type": "markdown",
   "metadata": {},
   "source": [
    "Since in this project, I'm only interested in analyzing the data from the columns - budget, revenue, popularity, vote count,runtime, I'm dropping the other columns using the drop function. The data now looks relatively clean and we can proceed with further analysis. "
   ]
  },
  {
   "cell_type": "code",
   "execution_count": 49,
   "metadata": {},
   "outputs": [
    {
     "name": "stdout",
     "output_type": "stream",
     "text": [
      "<class 'pandas.core.frame.DataFrame'>\n",
      "Int64Index: 10855 entries, 0 to 10865\n",
      "Data columns (total 8 columns):\n",
      "id              10855 non-null int64\n",
      "imdb_id         10855 non-null object\n",
      "popularity      10855 non-null float64\n",
      "budget          10855 non-null int64\n",
      "revenue         10855 non-null int64\n",
      "runtime         10855 non-null int64\n",
      "vote_count      10855 non-null int64\n",
      "release_year    10855 non-null int64\n",
      "dtypes: float64(1), int64(6), object(1)\n",
      "memory usage: 763.2+ KB\n"
     ]
    }
   ],
   "source": [
    "#Drop the additional columns in the dataset that are not a part of the analysis \n",
    "TMDb_data.drop(['cast','homepage', 'tagline','keywords','director','overview','production_companies','genres', 'budget_adj','revenue_adj', 'original_title', 'release_date','vote_average' ], axis=1, inplace = True)\n",
    "TMDb_data.info()"
   ]
  },
  {
   "cell_type": "markdown",
   "metadata": {},
   "source": [
    "Before I begin the process of Exploratory Data Analysis,I have used the hist function to view the histograms of all the columbns to see how I can proceed with my analysis. I have also used the describe function to have an idea of the mean, standard deviation, minimum and maximum values. "
   ]
  },
  {
   "cell_type": "code",
   "execution_count": 50,
   "metadata": {
    "scrolled": true
   },
   "outputs": [
    {
     "data": {
      "image/png": "[encoded data removed]",
      "text/plain": [
       "<matplotlib.figure.Figure at 0x7f12a66180b8>"
      ]
     },
     "metadata": {},
     "output_type": "display_data"
    }
   ],
   "source": [
    "#View the histogram of the interested columns in the dataset\n",
    "TMDb_data.hist(figsize=(10,8));"
   ]
  },
  {
   "cell_type": "code",
   "execution_count": 51,
   "metadata": {},
   "outputs": [
    {
     "data": {
      "text/html": [
       "<div>\n",
       "<style>\n",
       "    .dataframe thead tr:only-child th {\n",
       "        text-align: right;\n",
       "    }\n",
       "\n",
       "    .dataframe thead th {\n",
       "        text-align: left;\n",
       "    }\n",
       "\n",
       "    .dataframe tbody tr th {\n",
       "        vertical-align: top;\n",
       "    }\n",
       "</style>\n",
       "<table border=\"1\" class=\"dataframe\">\n",
       "  <thead>\n",
       "    <tr style=\"text-align: right;\">\n",
       "      <th></th>\n",
       "      <th>id</th>\n",
       "      <th>popularity</th>\n",
       "      <th>budget</th>\n",
       "      <th>revenue</th>\n",
       "      <th>runtime</th>\n",
       "      <th>vote_count</th>\n",
       "      <th>release_year</th>\n",
       "    </tr>\n",
       "  </thead>\n",
       "  <tbody>\n",
       "    <tr>\n",
       "      <th>count</th>\n",
       "      <td>10855.000000</td>\n",
       "      <td>10855.000000</td>\n",
       "      <td>1.085500e+04</td>\n",
       "      <td>1.085500e+04</td>\n",
       "      <td>10855.000000</td>\n",
       "      <td>10855.000000</td>\n",
       "      <td>10855.000000</td>\n",
       "    </tr>\n",
       "    <tr>\n",
       "      <th>mean</th>\n",
       "      <td>65959.191617</td>\n",
       "      <td>0.646832</td>\n",
       "      <td>1.463776e+07</td>\n",
       "      <td>3.986359e+07</td>\n",
       "      <td>102.105205</td>\n",
       "      <td>217.584155</td>\n",
       "      <td>2001.313128</td>\n",
       "    </tr>\n",
       "    <tr>\n",
       "      <th>std</th>\n",
       "      <td>92018.246342</td>\n",
       "      <td>1.000591</td>\n",
       "      <td>3.092533e+07</td>\n",
       "      <td>1.170559e+08</td>\n",
       "      <td>31.348734</td>\n",
       "      <td>575.877532</td>\n",
       "      <td>12.815672</td>\n",
       "    </tr>\n",
       "    <tr>\n",
       "      <th>min</th>\n",
       "      <td>5.000000</td>\n",
       "      <td>0.000065</td>\n",
       "      <td>0.000000e+00</td>\n",
       "      <td>0.000000e+00</td>\n",
       "      <td>0.000000</td>\n",
       "      <td>10.000000</td>\n",
       "      <td>1960.000000</td>\n",
       "    </tr>\n",
       "    <tr>\n",
       "      <th>25%</th>\n",
       "      <td>10591.500000</td>\n",
       "      <td>0.207733</td>\n",
       "      <td>0.000000e+00</td>\n",
       "      <td>0.000000e+00</td>\n",
       "      <td>90.000000</td>\n",
       "      <td>17.000000</td>\n",
       "      <td>1995.000000</td>\n",
       "    </tr>\n",
       "    <tr>\n",
       "      <th>50%</th>\n",
       "      <td>20618.000000</td>\n",
       "      <td>0.383998</td>\n",
       "      <td>0.000000e+00</td>\n",
       "      <td>0.000000e+00</td>\n",
       "      <td>99.000000</td>\n",
       "      <td>38.000000</td>\n",
       "      <td>2006.000000</td>\n",
       "    </tr>\n",
       "    <tr>\n",
       "      <th>75%</th>\n",
       "      <td>75393.500000</td>\n",
       "      <td>0.714446</td>\n",
       "      <td>1.500000e+07</td>\n",
       "      <td>2.404727e+07</td>\n",
       "      <td>111.000000</td>\n",
       "      <td>146.000000</td>\n",
       "      <td>2011.000000</td>\n",
       "    </tr>\n",
       "    <tr>\n",
       "      <th>max</th>\n",
       "      <td>417859.000000</td>\n",
       "      <td>32.985763</td>\n",
       "      <td>4.250000e+08</td>\n",
       "      <td>2.781506e+09</td>\n",
       "      <td>900.000000</td>\n",
       "      <td>9767.000000</td>\n",
       "      <td>2015.000000</td>\n",
       "    </tr>\n",
       "  </tbody>\n",
       "</table>\n",
       "</div>"
      ],
      "text/plain": [
       "                  id    popularity        budget       revenue       runtime  \\\n",
       "count   10855.000000  10855.000000  1.085500e+04  1.085500e+04  10855.000000   \n",
       "mean    65959.191617      0.646832  1.463776e+07  3.986359e+07    102.105205   \n",
       "std     92018.246342      1.000591  3.092533e+07  1.170559e+08     31.348734   \n",
       "min         5.000000      0.000065  0.000000e+00  0.000000e+00      0.000000   \n",
       "25%     10591.500000      0.207733  0.000000e+00  0.000000e+00     90.000000   \n",
       "50%     20618.000000      0.383998  0.000000e+00  0.000000e+00     99.000000   \n",
       "75%     75393.500000      0.714446  1.500000e+07  2.404727e+07    111.000000   \n",
       "max    417859.000000     32.985763  4.250000e+08  2.781506e+09    900.000000   \n",
       "\n",
       "         vote_count  release_year  \n",
       "count  10855.000000  10855.000000  \n",
       "mean     217.584155   2001.313128  \n",
       "std      575.877532     12.815672  \n",
       "min       10.000000   1960.000000  \n",
       "25%       17.000000   1995.000000  \n",
       "50%       38.000000   2006.000000  \n",
       "75%      146.000000   2011.000000  \n",
       "max     9767.000000   2015.000000  "
      ]
     },
     "execution_count": 51,
     "metadata": {},
     "output_type": "execute_result"
    }
   ],
   "source": [
    "#View the mean, standard deviation, minimum, maximum vales of the interested columns in the dataset\n",
    "TMDb_data.describe()"
   ]
  },
  {
   "cell_type": "markdown",
   "metadata": {},
   "source": [
    "<a id='eda'></a>\n",
    "## Exploratory Data Analysis\n",
    "\n",
    "\n",
    "\n",
    "\n"
   ]
  },
  {
   "cell_type": "markdown",
   "metadata": {},
   "source": [
    "In my project, in the step of Exploratory Data Analysis, I have split my analysis into two research questions as below.\n",
    "\n",
    "### RESEARCH QUESTION 1\n",
    "\n",
    "How is the trend of the number of movies released, popularity of the movies released, runtime of the movies released and revenue obtained over the years? \n",
    "\n",
    "In order to answer the above questions, I'm creating a new data frame to have the data grouped by realse year with funtions size since my point of interest is to find out of the number of movies released over the years and to answer the remaining part of the question to find trends on revenue, runtime and popularity, I have grouped the data by release yeard with the function mean to obtain the summary statistics on mean of the values over the years. "
   ]
  },
  {
   "cell_type": "markdown",
   "metadata": {},
   "source": [
    "#### NUMBER OF MOVIES RELEASED OVER THE YEARS\n",
    "\n",
    "To find out this trend, I have created a data frame Movie_trend and grouped by release year with the size function. From the below line plot, it looks like the number of movies has increased over the years."
   ]
  },
  {
   "cell_type": "code",
   "execution_count": 52,
   "metadata": {},
   "outputs": [
    {
     "data": {
      "text/plain": [
       "Text(0.5,1,'Movie Release Trend Over The Years')"
      ]
     },
     "execution_count": 52,
     "metadata": {},
     "output_type": "execute_result"
    },
    {
     "data": {
      "image/png": "[encoded data removed]",
      "text/plain": [
       "<matplotlib.figure.Figure at 0x7f12a71ebf28>"
      ]
     },
     "metadata": {},
     "output_type": "display_data"
    }
   ],
   "source": [
    "#Number of Movies released over the years \n",
    "Movie_trend = TMDb_data.groupby('release_year').size()\n",
    "Release_Trend = Movie_trend.plot.line()\n",
    "plt.xlabel('Release Year')\n",
    "plt.ylabel('Number of Movies Released')\n",
    "plt.title('Movie Release Trend Over The Years')\n"
   ]
  },
  {
   "cell_type": "markdown",
   "metadata": {},
   "source": [
    "#### POPULARITY OF THE MOVIES RELEASED OVER THE YEARS\n",
    "\n",
    "To find out this trend, I have created a data frame Mean_trend and grouped by release year with the mean function. From the below line plot, it looks like the popularity of the movies released has increased over the years which makes sense since we saw the pattern of movie releases increasing over the years."
   ]
  },
  {
   "cell_type": "code",
   "execution_count": 53,
   "metadata": {},
   "outputs": [
    {
     "data": {
      "text/plain": [
       "Text(0.5,1,'Popularity Trend Over The Years')"
      ]
     },
     "execution_count": 53,
     "metadata": {},
     "output_type": "execute_result"
    },
    {
     "data": {
      "image/png": "[encoded data removed]",
      "text/plain": [
       "<matplotlib.figure.Figure at 0x7f12a67ed4e0>"
      ]
     },
     "metadata": {},
     "output_type": "display_data"
    }
   ],
   "source": [
    "#Popularity of Movies released over the years \n",
    "Mean_trend = TMDb_data.groupby('release_year').mean()\n",
    "Popularity_Trend = Mean_trend['popularity'].plot.line()\n",
    "plt.xlabel('Release Year')\n",
    "plt.ylabel('Popularity Rating')\n",
    "plt.title('Popularity Trend Over The Years')\n"
   ]
  },
  {
   "cell_type": "markdown",
   "metadata": {},
   "source": [
    "#### RUNTIME OF THE MOVIES RELEASED OVER THE YEARS\n",
    "\n",
    "To find out this trend, I'm using the same data frame Mean_trend,  grouped by release year with the mean function. From the below line plot, it looks like the runtime of the movies released has decreased over the years."
   ]
  },
  {
   "cell_type": "code",
   "execution_count": 54,
   "metadata": {},
   "outputs": [
    {
     "data": {
      "text/plain": [
       "Text(0.5,1,'Runtime Over The Years')"
      ]
     },
     "execution_count": 54,
     "metadata": {},
     "output_type": "execute_result"
    },
    {
     "data": {
      "image/png": "[encoded data removed]",
      "text/plain": [
       "<matplotlib.figure.Figure at 0x7f12a648e3c8>"
      ]
     },
     "metadata": {},
     "output_type": "display_data"
    }
   ],
   "source": [
    "#Runtime of Movies released over the years \n",
    "\n",
    "Runtime_Trend = Mean_trend['runtime'].plot.line()\n",
    "plt.xlabel('Release Year')\n",
    "plt.ylabel('Runtime')\n",
    "plt.title('Runtime Over The Years')\n"
   ]
  },
  {
   "cell_type": "markdown",
   "metadata": {},
   "source": [
    "#### REVENUE FROM THE MOVIES RELEASED OVER THE YEARS\n",
    "\n",
    "To find out this trend, I'm still using the same data frame Mean_trend,  grouped by release year with the mean function. From the below line plot, it looks like the revenue of the movies released has had increases over the years untill mid of 2000 and seems to have decreased. At this point in our analysis, we do not have any idea of why there is a decrease in the revenue yet. This needs further investigation."
   ]
  },
  {
   "cell_type": "code",
   "execution_count": 55,
   "metadata": {},
   "outputs": [
    {
     "data": {
      "text/plain": [
       "Text(0.5,1,'Revenue Over The Years')"
      ]
     },
     "execution_count": 55,
     "metadata": {},
     "output_type": "execute_result"
    },
    {
     "data": {
      "image/png": "[encoded data removed]",
      "text/plain": [
       "<matplotlib.figure.Figure at 0x7f12a6482470>"
      ]
     },
     "metadata": {},
     "output_type": "display_data"
    }
   ],
   "source": [
    "#Revenue from the Movies released over the years \n",
    "\n",
    "Revenue_Trend = Mean_trend['revenue'].plot.line()\n",
    "plt.xlabel('Release Year')\n",
    "plt.ylabel('Revenue')\n",
    "plt.title('Revenue Over The Years')\n"
   ]
  },
  {
   "cell_type": "markdown",
   "metadata": {},
   "source": [
    "### RESEARCH QUESTION 2\n",
    "\n",
    "How is  Revenue Correlated with the variables - Popularity, Vote count, Budget, Runtime? \n",
    "\n",
    "In the below cell, I'm using the Corr funtion to calculate the Pearson coefficient to determine, the correlation between the variables in the dataset. Looking at the output, and the variables in the point of my interest, Revenue is positively correlated with Popularity, Vote count and Budget with the correlation coefficent of 0.75, 0.80, 0.90 and Revenue is negatively correlated with runtime with the correlation coefficient of -0.46. To confirm this further, I'm using scatter plot to visualize and look at the correlations."
   ]
  },
  {
   "cell_type": "code",
   "execution_count": 56,
   "metadata": {},
   "outputs": [
    {
     "data": {
      "text/html": [
       "<div>\n",
       "<style>\n",
       "    .dataframe thead tr:only-child th {\n",
       "        text-align: right;\n",
       "    }\n",
       "\n",
       "    .dataframe thead th {\n",
       "        text-align: left;\n",
       "    }\n",
       "\n",
       "    .dataframe tbody tr th {\n",
       "        vertical-align: top;\n",
       "    }\n",
       "</style>\n",
       "<table border=\"1\" class=\"dataframe\">\n",
       "  <thead>\n",
       "    <tr style=\"text-align: right;\">\n",
       "      <th></th>\n",
       "      <th>id</th>\n",
       "      <th>popularity</th>\n",
       "      <th>budget</th>\n",
       "      <th>revenue</th>\n",
       "      <th>runtime</th>\n",
       "      <th>vote_count</th>\n",
       "    </tr>\n",
       "  </thead>\n",
       "  <tbody>\n",
       "    <tr>\n",
       "      <th>id</th>\n",
       "      <td>1.000000</td>\n",
       "      <td>0.612610</td>\n",
       "      <td>0.100292</td>\n",
       "      <td>0.152558</td>\n",
       "      <td>-0.441775</td>\n",
       "      <td>0.539964</td>\n",
       "    </tr>\n",
       "    <tr>\n",
       "      <th>popularity</th>\n",
       "      <td>0.612610</td>\n",
       "      <td>1.000000</td>\n",
       "      <td>0.668215</td>\n",
       "      <td>0.759156</td>\n",
       "      <td>-0.488974</td>\n",
       "      <td>0.849314</td>\n",
       "    </tr>\n",
       "    <tr>\n",
       "      <th>budget</th>\n",
       "      <td>0.100292</td>\n",
       "      <td>0.668215</td>\n",
       "      <td>1.000000</td>\n",
       "      <td>0.906124</td>\n",
       "      <td>-0.401485</td>\n",
       "      <td>0.782026</td>\n",
       "    </tr>\n",
       "    <tr>\n",
       "      <th>revenue</th>\n",
       "      <td>0.152558</td>\n",
       "      <td>0.759156</td>\n",
       "      <td>0.906124</td>\n",
       "      <td>1.000000</td>\n",
       "      <td>-0.466239</td>\n",
       "      <td>0.809243</td>\n",
       "    </tr>\n",
       "    <tr>\n",
       "      <th>runtime</th>\n",
       "      <td>-0.441775</td>\n",
       "      <td>-0.488974</td>\n",
       "      <td>-0.401485</td>\n",
       "      <td>-0.466239</td>\n",
       "      <td>1.000000</td>\n",
       "      <td>-0.612715</td>\n",
       "    </tr>\n",
       "    <tr>\n",
       "      <th>vote_count</th>\n",
       "      <td>0.539964</td>\n",
       "      <td>0.849314</td>\n",
       "      <td>0.782026</td>\n",
       "      <td>0.809243</td>\n",
       "      <td>-0.612715</td>\n",
       "      <td>1.000000</td>\n",
       "    </tr>\n",
       "  </tbody>\n",
       "</table>\n",
       "</div>"
      ],
      "text/plain": [
       "                  id  popularity    budget   revenue   runtime  vote_count\n",
       "id          1.000000    0.612610  0.100292  0.152558 -0.441775    0.539964\n",
       "popularity  0.612610    1.000000  0.668215  0.759156 -0.488974    0.849314\n",
       "budget      0.100292    0.668215  1.000000  0.906124 -0.401485    0.782026\n",
       "revenue     0.152558    0.759156  0.906124  1.000000 -0.466239    0.809243\n",
       "runtime    -0.441775   -0.488974 -0.401485 -0.466239  1.000000   -0.612715\n",
       "vote_count  0.539964    0.849314  0.782026  0.809243 -0.612715    1.000000"
      ]
     },
     "execution_count": 56,
     "metadata": {},
     "output_type": "execute_result"
    }
   ],
   "source": [
    "#Calculating the Correlation coefficient\n",
    "Mean_trend.corr(method='pearson')"
   ]
  },
  {
   "cell_type": "markdown",
   "metadata": {},
   "source": [
    "#### CORRELATION BETWEEN REVENUE AND POPULARITY\n",
    "\n",
    "To find out the correlation between these two trends, I'm using scatter plot to plot the revenue data against popularity ratings from the Mean_trend data frame which has the data grouped by release year. From the below scatter plot, it looks like Revenue and popularity are closely correlated exceot two to three data points from the plot which will need to be analyzed further."
   ]
  },
  {
   "cell_type": "code",
   "execution_count": 57,
   "metadata": {},
   "outputs": [
    {
     "data": {
      "image/png": "[encoded data removed]",
      "text/plain": [
       "<matplotlib.figure.Figure at 0x7f12a7223128>"
      ]
     },
     "metadata": {},
     "output_type": "display_data"
    }
   ],
   "source": [
    "#Correlation between Revenue and popularity\n",
    "plt.scatter(x=Mean_trend['revenue'], y=Mean_trend['popularity'])\n",
    "plt.xlabel('Revenue')\n",
    "plt.ylabel('Popularity Ratings')\n",
    "plt.title('Correlation between Revenue and Popularity Over the Years');\n"
   ]
  },
  {
   "cell_type": "markdown",
   "metadata": {},
   "source": [
    "#### CORRELATION BETWEEN REVENUE AND VOTE COUNT\n",
    "\n",
    "To find out the correlation between these two trends, I'm using scatter plot to plot the revenue data against vote counts from the Mean_trend data frame which has the data grouped by release year. From the below scatter plot, it looks like Revenue and vote counts are also closely correlated positively except few data points from the plot which will need to be analyzed further."
   ]
  },
  {
   "cell_type": "code",
   "execution_count": 58,
   "metadata": {},
   "outputs": [
    {
     "data": {
      "image/png": "[encoded data removed]",
      "text/plain": [
       "<matplotlib.figure.Figure at 0x7f12a63bd438>"
      ]
     },
     "metadata": {},
     "output_type": "display_data"
    }
   ],
   "source": [
    "plt.scatter(x=Mean_trend['revenue'], y=Mean_trend['vote_count'])\n",
    "plt.xlabel('Revenue')\n",
    "plt.ylabel('Vote Count')\n",
    "plt.title('Correlation between Revenue and Vote Count Over the Years');\n"
   ]
  },
  {
   "cell_type": "markdown",
   "metadata": {},
   "source": [
    "#### CORRELATION BETWEEN REVENUE AND BUDGET\n",
    "\n",
    "To find out the correlation between these two trends, I'm using scatter plot to plot the revenue data against budget from the Mean_trend data frame which has the data grouped by release year. From the below scatter plot, it looks like Revenue and Budget are also closely correlated positively."
   ]
  },
  {
   "cell_type": "code",
   "execution_count": 59,
   "metadata": {},
   "outputs": [
    {
     "data": {
      "image/png": "[encoded data removed]",
      "text/plain": [
       "<matplotlib.figure.Figure at 0x7f12a630c358>"
      ]
     },
     "metadata": {},
     "output_type": "display_data"
    }
   ],
   "source": [
    "plt.scatter(x=Mean_trend['revenue'], y=Mean_trend['budget'])\n",
    "plt.xlabel('Revenue')\n",
    "plt.ylabel('Budget')\n",
    "plt.title('Correlation betweem Revenue and budget Over the Years');"
   ]
  },
  {
   "cell_type": "markdown",
   "metadata": {},
   "source": [
    "#### CORRELATION BETWEEN REVENUE AND RUNTIME\n",
    "\n",
    "To find out the correlation between these two trends, I'm using scatter plot to plot the revenue data against budget from the Mean_trend data frame which has the data grouped by release year. From the below scatter plot, it looks like Revenue and Runtime are negatively correlated."
   ]
  },
  {
   "cell_type": "code",
   "execution_count": 60,
   "metadata": {},
   "outputs": [
    {
     "data": {
      "image/png": "[encoded data removed]",
      "text/plain": [
       "<matplotlib.figure.Figure at 0x7f12a64b95c0>"
      ]
     },
     "metadata": {},
     "output_type": "display_data"
    }
   ],
   "source": [
    "plt.scatter(x=Mean_trend['revenue'], y=Mean_trend['runtime'])\n",
    "plt.xlabel('Revenue')\n",
    "plt.ylabel('Runtime')\n",
    "plt.title('Correlation between Revenue and Runtime Over the Years');"
   ]
  },
  {
   "cell_type": "markdown",
   "metadata": {},
   "source": [
    "<a id='conclusions'></a>\n",
    "## Conclusions\n",
    "\n",
    "\n",
    "#### LIMITATIONS \n",
    "\n",
    "In this project, the variables that we analyzed such as budget and revenue might be in different currencies considering the TMDb data set contains movies from all around the world. I have assumed it to be in USD and carried forward with my analysis. Also, the variables such a popularity rating and vote counts are not defined on the basis of a particular group of people or with any specified qualities which are few of the limitations in this analysis. One more limitation of the project is that, I have not analyzed the outliers thoroughly.\n",
    "\n",
    "\n",
    "#### SUMMARY\n",
    "\n",
    "Finally, from thsi analysis, I have made the following conclusions. \n",
    "\n",
    "1. Increase in movie releases over the years \n",
    "2. Increase in popularity over the years\n",
    "3. Increase in Revenue till mid 2000's and there is a decrease later\n",
    "4. Decrease in runtime over the years \n",
    "5. Revenue is positively correlated with Vote count, budget and Popularity\n",
    "6. Revenue is negatively correlated with the Runtime.\n",
    "\n",
    "The conclusions are merely based on correlations and not on causation. \n"
   ]
  },
  {
   "cell_type": "code",
   "execution_count": 61,
   "metadata": {},
   "outputs": [
    {
     "data": {
      "text/plain": [
       "0"
      ]
     },
     "execution_count": 61,
     "metadata": {},
     "output_type": "execute_result"
    }
   ],
   "source": [
    "from subprocess import call\n",
    "call(['python', '-m', 'nbconvert', 'Investigate_a_Dataset.ipynb'])"
   ]
  }
 ],
 "metadata": {
  "kernelspec": {
   "display_name": "Python 3",
   "language": "python",
   "name": "python3"
  },
  "language_info": {
   "codemirror_mode": {
    "name": "ipython",
    "version": 3
   },
   "file_extension": ".py",
   "mimetype": "text/x-python",
   "name": "python",
   "nbconvert_exporter": "python",
   "pygments_lexer": "ipython3",
   "version": "3.6.3"
  }
 },
 "nbformat": 4,
 "nbformat_minor": 2
}
